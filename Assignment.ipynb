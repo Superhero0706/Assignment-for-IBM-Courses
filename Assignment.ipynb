{
 "cells": [
  {
   "cell_type": "markdown",
   "id": "086e28b5",
   "metadata": {},
   "source": [
    "# My Jupyter Notebook on IBM Watson Studio"
   ]
  },
  {
   "cell_type": "markdown",
   "id": "7e42508b",
   "metadata": {},
   "source": [
    "#### **Yihong Su**\n",
    "Data Scientist "
   ]
  },
  {
   "cell_type": "markdown",
   "id": "6484e203",
   "metadata": {},
   "source": [
    "*I am interested in data science becauese it helps me make data-driven decisions*"
   ]
  },
  {
   "cell_type": "markdown",
   "id": "4518835a",
   "metadata": {},
   "source": [
    "### The following code prints each letter in the string \"spring\""
   ]
  },
  {
   "cell_type": "code",
   "execution_count": 1,
   "id": "ff96ec9e",
   "metadata": {},
   "outputs": [
    {
     "name": "stdout",
     "output_type": "stream",
     "text": [
      "s\n",
      "p\n",
      "r\n",
      "i\n",
      "n\n",
      "g\n"
     ]
    }
   ],
   "source": [
    "a = \"spring\"\n",
    "for i in a:\n",
    "    print(i)"
   ]
  },
  {
   "cell_type": "markdown",
   "id": "4eb7c36d",
   "metadata": {},
   "source": [
    "***\n",
    "One\n",
    "***\n",
    "* Two\n",
    "***\n",
    "1. Three"
   ]
  }
 ],
 "metadata": {
  "kernelspec": {
   "display_name": "Python 3 (ipykernel)",
   "language": "python",
   "name": "python3"
  },
  "language_info": {
   "codemirror_mode": {
    "name": "ipython",
    "version": 3
   },
   "file_extension": ".py",
   "mimetype": "text/x-python",
   "name": "python",
   "nbconvert_exporter": "python",
   "pygments_lexer": "ipython3",
   "version": "3.9.12"
  }
 },
 "nbformat": 4,
 "nbformat_minor": 5
}
